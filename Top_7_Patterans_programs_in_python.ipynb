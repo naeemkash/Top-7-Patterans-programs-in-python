{
  "nbformat": 4,
  "nbformat_minor": 0,
  "metadata": {
    "colab": {
      "provenance": []
    },
    "kernelspec": {
      "name": "python3",
      "display_name": "Python 3"
    },
    "language_info": {
      "name": "python"
    }
  },
  "cells": [
    {
      "cell_type": "markdown",
      "source": [
        "# 1- Inverted Diamond"
      ],
      "metadata": {
        "id": "LHa8ey0cFWLi"
      }
    },
    {
      "cell_type": "code",
      "execution_count": null,
      "metadata": {
        "colab": {
          "base_uri": "https://localhost:8080/"
        },
        "id": "wluS3Aw4FVIk",
        "outputId": "c166f031-dbaa-46ae-9da8-3b14632c816e"
      },
      "outputs": [
        {
          "output_type": "stream",
          "name": "stdout",
          "text": [
            " * * * * * \r\n",
            "  * * * * \r\n",
            "   * * * \r\n",
            "    * * \r\n",
            "     * \r\n",
            "     * \r\n",
            "    * * \r\n",
            "   * * * \r\n",
            "  * * * * \r\n",
            " * * * * * \r\n"
          ]
        }
      ],
      "source": [
        "columns = 5\n",
        "for k in range(columns+1,1,-1):\n",
        "    print(\" \"*((columns+2)-k), end=\"\")\n",
        "    for m in range(k,1,-1):\n",
        "        print(\"*\",end=\" \")\n",
        "    print(\"\\r\")\n",
        "for i in range(1,columns+1):\n",
        "    print(\" \"*((columns+1)-i), end=\"\")\n",
        "    for j in range(1,i+1):\n",
        "        print(\"*\", end=\" \")\n",
        "    print(\"\\r\")"
      ]
    },
    {
      "cell_type": "markdown",
      "source": [
        "# 2- Diamond Pattern"
      ],
      "metadata": {
        "id": "Al2iyotPMCDH"
      }
    },
    {
      "cell_type": "code",
      "source": [
        "columns = 5\n",
        "for i in range(1,columns+1):\n",
        "    print(\" \"*((columns+1)-i), end=\"\")\n",
        "    for j in range(1,i+1):\n",
        "        print('*', end= \" \")\n",
        "    print(\"\\r\")\n",
        "\n",
        "for k in range(columns,1,-1):\n",
        "    print(\" \"*((columns+2)-k),end=\"\")\n",
        "    for m in range(k,1,-1):\n",
        "        print('*', end=\" \")\n",
        "    print(\"\\r\")"
      ],
      "metadata": {
        "colab": {
          "base_uri": "https://localhost:8080/"
        },
        "id": "dUPbh4oCMIT6",
        "outputId": "1139ed00-43b7-4f54-9b57-532efee435a1"
      },
      "execution_count": null,
      "outputs": [
        {
          "output_type": "stream",
          "name": "stdout",
          "text": [
            "     * \r\n",
            "    * * \r\n",
            "   * * * \r\n",
            "  * * * * \r\n",
            " * * * * * \r\n",
            "  * * * * \r\n",
            "   * * * \r\n",
            "    * * \r\n",
            "     * \r\n"
          ]
        }
      ]
    },
    {
      "cell_type": "markdown",
      "source": [
        "# 3- ARROW PATTERN"
      ],
      "metadata": {
        "id": "WZqIvrHZQpID"
      }
    },
    {
      "cell_type": "code",
      "source": [
        "columns = 5\n",
        "for i in range(1,columns+1):\n",
        "    print('* '*i)\n",
        "\n",
        "for j in range(columns-1,0,-1):\n",
        "    print('* '*j)"
      ],
      "metadata": {
        "colab": {
          "base_uri": "https://localhost:8080/"
        },
        "id": "D54iUBbWQvep",
        "outputId": "e6fe3251-c3f4-49dc-b23b-8914e6ca4e67"
      },
      "execution_count": null,
      "outputs": [
        {
          "output_type": "stream",
          "name": "stdout",
          "text": [
            "* \n",
            "* * \n",
            "* * * \n",
            "* * * * \n",
            "* * * * * \n",
            "* * * * \n",
            "* * * \n",
            "* * \n",
            "* \n"
          ]
        }
      ]
    },
    {
      "cell_type": "markdown",
      "source": [
        "# 4- PYRAMID PATTRN"
      ],
      "metadata": {
        "id": "ZU43hXNYQznA"
      }
    },
    {
      "cell_type": "code",
      "source": [
        "for i in range(1,6):\n",
        "    for j in range(1,i+1):\n",
        "        print(\"*\", end=\"\")\n",
        "    print(\"\\r\")"
      ],
      "metadata": {
        "colab": {
          "base_uri": "https://localhost:8080/"
        },
        "id": "uDmsuEkkQ9UG",
        "outputId": "940034ec-c121-4dfb-f212-c646797e5cd4"
      },
      "execution_count": null,
      "outputs": [
        {
          "output_type": "stream",
          "name": "stdout",
          "text": [
            "*\r\n",
            "**\r\n",
            "***\r\n",
            "****\r\n",
            "*****\r\n"
          ]
        }
      ]
    },
    {
      "cell_type": "markdown",
      "source": [
        "# 5- INVERTED PYRAMID PATTERN"
      ],
      "metadata": {
        "id": "oHgThE0aThE4"
      }
    },
    {
      "cell_type": "code",
      "source": [
        "height = 5\n",
        "for i in range(height,0,-1):\n",
        "    print('*' * i)"
      ],
      "metadata": {
        "colab": {
          "base_uri": "https://localhost:8080/"
        },
        "id": "ODjBR0fKTw12",
        "outputId": "9e3df626-f4d0-4f1c-f5fd-902b50dd67ae"
      },
      "execution_count": null,
      "outputs": [
        {
          "output_type": "stream",
          "name": "stdout",
          "text": [
            "*****\n",
            "****\n",
            "***\n",
            "**\n",
            "*\n"
          ]
        }
      ]
    },
    {
      "cell_type": "markdown",
      "source": [
        "# 6- MIRROR PYRAMID PATTERAN"
      ],
      "metadata": {
        "id": "6rjyCfiZSwrV"
      }
    },
    {
      "cell_type": "code",
      "source": [
        "height = 5\n",
        "for i in range(1,height+1):\n",
        "    print(\" \"*(height-i) + \"*\"*i)\n"
      ],
      "metadata": {
        "colab": {
          "base_uri": "https://localhost:8080/"
        },
        "id": "LWt-zVY0S8y-",
        "outputId": "801681f7-e0c8-43fb-a09e-b1d317f51f29"
      },
      "execution_count": null,
      "outputs": [
        {
          "output_type": "stream",
          "name": "stdout",
          "text": [
            "    *\n",
            "   **\n",
            "  ***\n",
            " ****\n",
            "*****\n"
          ]
        }
      ]
    },
    {
      "cell_type": "markdown",
      "source": [
        "# 7- TRIANGLE PATTERN"
      ],
      "metadata": {
        "id": "VowwwGNvRhlc"
      }
    },
    {
      "cell_type": "code",
      "source": [
        "for i in range(1,6):\n",
        "    print(\" \"*(6-i), end=\"\")\n",
        "    for j in range(1,i+1):\n",
        "        print('*', end=\" \")\n",
        "    print(\"\\r\")"
      ],
      "metadata": {
        "colab": {
          "base_uri": "https://localhost:8080/"
        },
        "id": "b0hFLRSlRoNp",
        "outputId": "bdade72f-3fc9-48f0-eed0-c76c22230f9f"
      },
      "execution_count": null,
      "outputs": [
        {
          "output_type": "stream",
          "name": "stdout",
          "text": [
            "     * \r\n",
            "    * * \r\n",
            "   * * * \r\n",
            "  * * * * \r\n",
            " * * * * * \r\n"
          ]
        }
      ]
    }
  ]
}